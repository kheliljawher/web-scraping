{
 "cells": [
  {
   "cell_type": "code",
   "execution_count": 98,
   "metadata": {},
   "outputs": [],
   "source": [
    "# Web scraping, pickle imports\n",
    "import requests\n",
    "from bs4 import BeautifulSoup\n",
    "import pickle\n",
    "import re\n",
    "import pandas as pd"
   ]
  },
  {
   "cell_type": "code",
   "execution_count": 121,
   "metadata": {},
   "outputs": [],
   "source": [
    "\n",
    "data=pd.read_csv('urldjerba.csv')\n",
    "url=data['urldjerba']\n",
    "urls=[]\n",
    "for item in url:\n",
    "    urls.append(item)\n",
    "    "
   ]
  },
  {
   "cell_type": "code",
   "execution_count": 122,
   "metadata": {},
   "outputs": [
    {
     "data": {
      "text/plain": [
       "['https://www.booking.com/hotel/tn/mehari-djerba.fr.html?label=gen173nr-1FCAso4gE46AdIM1gEaOIBiAEBmAENuAEXyAEP2AEB6AEB-AECiAIBqAIDuALT9_zzBcACAQ;sid=19792f0115bd8c7b264366cb050d0de9;dest_id=3593;dest_type=region;dist=0;group_adults=2;group_children=0;hapos=1;hpos=1;nflt=ht_id%3D204%3B;no_rooms=1;room1=A%2CA;sb_price_type=total;sr_order=popularity;srepoch=1585396736;srpvid=c8665440bc630032;type=total;ucfs=1&#tab-reviews']"
      ]
     },
     "execution_count": 122,
     "metadata": {},
     "output_type": "execute_result"
    }
   ],
   "source": [
    "urls"
   ]
  },
  {
   "cell_type": "code",
   "execution_count": 123,
   "metadata": {},
   "outputs": [],
   "source": [
    "def url_to_transcript(url):\n",
    "    response= requests.get(url)\n",
    "    soup = BeautifulSoup(response.content,\"html.parser\")\n",
    "\n",
    "    reviews=soup.find_all('span',attrs={'class':'c-review__body'}) \n",
    "    name=soup.find_all('h2',attrs={'id':'hp_hotel_name'}) \n",
    "#    adresse_hotel=soup.find_all('span',attrs={'class': ' hp_address_subtitle js-hp_address_subtitle jq_tooltip'})  \n",
    "\n",
    "    return name,reviews"
   ]
  },
  {
   "cell_type": "code",
   "execution_count": 124,
   "metadata": {},
   "outputs": [],
   "source": [
    "booking = [url_to_transcript(u) for u in urls[:]]\n"
   ]
  },
  {
   "cell_type": "code",
   "execution_count": 125,
   "metadata": {},
   "outputs": [],
   "source": [
    "hotel_name=[]\n",
    "adresse_hotel=[]\n",
    "Review=[]\n",
    "for item in booking:\n",
    "    Review.append(item[1])\n",
    "    hotel_name.append(item[0])\n",
    "#    adresse_hotel.append(item[2])\n",
    "\n",
    "    "
   ]
  },
  {
   "cell_type": "code",
   "execution_count": 126,
   "metadata": {},
   "outputs": [
    {
     "data": {
      "text/plain": [
       "[[<span class=\"c-review__body\">« Bel hôte.belles chambres,personnel efficace et sympathique,extérieurs bien entretenus »</span>,\n",
       "  <span class=\"c-review__body\">« Le buffet est Exceptionnel ! Petit déjeuner et dîner délicieux, choix varié et de qualité ! \n",
       "  Le personnel est aux petits soins.\n",
       "  L'hôtel est immense, pas de quoi s'ennuyer: spa, salons, tennis, salle de sport, piscines intérieures et extérieures, boutique etc.\n",
       "  La chambre est confortable, le balcon est un plus. »</span>,\n",
       "  <span class=\"c-review__body\">« J'ai apprécié les animations, le cadre, la restauration et le SPA. J'ai passé un excellent  séjour en Famille dans cette hôtel. Nous avons décidé de revenir l'année prochaine.  »</span>,\n",
       "  <span class=\"c-review__body\">« buffet petit dej et diner  super varié et qui change chaque jours »</span>,\n",
       "  <span class=\"c-review__body\">« Chambre propre, le personnel cuisiniers et animateurs sont sympas.  »</span>,\n",
       "  <span class=\"c-review__body\">« La restauration était excellente, l établissement était très propre.\n",
       "  Séjour excellent, il faudrait juste un peu plus d animation au niveau du club enfants. »</span>,\n",
       "  <span class=\"c-review__body\">« Nous avons apprécié la propreté et le confort des chambres, la qualité des plats proposés. Un grand merci au chef de la réception et au directeur de l'établissement qui ont fait le nécessaire pour que nous passions notre séjour dans les meilleures conditions.  »</span>,\n",
       "  <span class=\"c-review__body\">« J ai aimé la chambre la télévision avec les chaînes françaises le buffet tres variés un peu moins pour les desserts dommage  »</span>,\n",
       "  <span class=\"c-review__body\">« Notre séjour à Djerba était inoubliable. Un hôtel tenu à la perfection, une animation au top, un restaurant avec énormément de choix et des produits différents chaque jours. Le personnel était adorable et très avenant, à l’écoute et toujours disponible, sur ce soit la réception, le service de chambre, l’animation, la restauration, absolument tout. Nous reviendrons le plus vite possible! Merci à toute l’équipe.  »</span>,\n",
       "  <span class=\"c-review__body\">« piscine intérieure\n",
       "  la construction d une nouvelle salle de sport.. ainsi qu une seconde piscine pour enfant a l extérieure  très bien pour la saison chaude..\n",
       "  petit déjeuner copieux avec du choix\n",
       "  le buffet du midi et du soir ,avec beaucoup de choix ,très bien présenté, qui donne envie\n",
       "   »</span>]]"
      ]
     },
     "execution_count": 126,
     "metadata": {},
     "output_type": "execute_result"
    }
   ],
   "source": [
    "Review"
   ]
  },
  {
   "cell_type": "code",
   "execution_count": 105,
   "metadata": {},
   "outputs": [],
   "source": [
    "#adresse_hotel"
   ]
  },
  {
   "cell_type": "code",
   "execution_count": 127,
   "metadata": {},
   "outputs": [
    {
     "data": {
      "text/plain": [
       "[[<h2 class=\"fn\" id=\"hp_hotel_name\">\n",
       "  <span class=\"hp__hotel-type-badge\">Hôtel</span>\n",
       "  Iberostar Mehari Djerba\n",
       "  </h2>]]"
      ]
     },
     "execution_count": 127,
     "metadata": {},
     "output_type": "execute_result"
    }
   ],
   "source": [
    "hotel_name"
   ]
  },
  {
   "cell_type": "code",
   "execution_count": 128,
   "metadata": {},
   "outputs": [],
   "source": [
    "def clean_name(coulum):\n",
    "    clean=[]\n",
    "    \n",
    "    for x in range(len(coulum)):\n",
    "        for item in coulum[x]:\n",
    "            clean.append((item.text))\n",
    "            clean = re.sub(r\"\\n\", \" \", item.text) \n",
    "\n",
    "    return clean"
   ]
  },
  {
   "cell_type": "code",
   "execution_count": null,
   "metadata": {},
   "outputs": [],
   "source": []
  },
  {
   "cell_type": "code",
   "execution_count": 129,
   "metadata": {},
   "outputs": [],
   "source": [
    "Hotel_name=clean_name(hotel_name)"
   ]
  },
  {
   "cell_type": "code",
   "execution_count": 130,
   "metadata": {},
   "outputs": [
    {
     "data": {
      "text/plain": [
       "' Hôtel Iberostar Mehari Djerba '"
      ]
     },
     "execution_count": 130,
     "metadata": {},
     "output_type": "execute_result"
    }
   ],
   "source": [
    "Hotel_name"
   ]
  },
  {
   "cell_type": "code",
   "execution_count": 85,
   "metadata": {},
   "outputs": [],
   "source": [
    "#def clean_adresse(coulum):\n",
    "#    clean=[]\n",
    "    \n",
    "#    for x in range(len(coulum)):\n",
    "#        for item in coulum[x]:\n",
    "#            clean = re.sub(r\"\\n\\n\", \" \", item.text) \n",
    "\n",
    "#    return clean"
   ]
  },
  {
   "cell_type": "code",
   "execution_count": 86,
   "metadata": {},
   "outputs": [],
   "source": [
    "#Adresse_hotel=clean_adresse(adresse_hotel)"
   ]
  },
  {
   "cell_type": "code",
   "execution_count": 87,
   "metadata": {},
   "outputs": [],
   "source": [
    "#Adresse_hotel"
   ]
  },
  {
   "cell_type": "code",
   "execution_count": 131,
   "metadata": {},
   "outputs": [],
   "source": [
    "def clean_reviews(coulum):\n",
    "    clean=[]\n",
    "    \n",
    "    for x in range(len(coulum)):\n",
    "        for item in coulum[x]:\n",
    "            clean.append((item.text))\n",
    "            \n",
    "    return clean"
   ]
  },
  {
   "cell_type": "code",
   "execution_count": 132,
   "metadata": {},
   "outputs": [],
   "source": [
    "clean_review=clean_reviews(Review)"
   ]
  },
  {
   "cell_type": "code",
   "execution_count": 133,
   "metadata": {},
   "outputs": [
    {
     "data": {
      "text/plain": [
       "list"
      ]
     },
     "execution_count": 133,
     "metadata": {},
     "output_type": "execute_result"
    }
   ],
   "source": [
    "type(clean_review)"
   ]
  },
  {
   "cell_type": "code",
   "execution_count": null,
   "metadata": {},
   "outputs": [],
   "source": []
  },
  {
   "cell_type": "code",
   "execution_count": 134,
   "metadata": {},
   "outputs": [],
   "source": [
    "clean_name=[]\n",
    "\n",
    "for i in range(len(clean_review)):\n",
    "    clean_name.append(Hotel_name)\n"
   ]
  },
  {
   "cell_type": "code",
   "execution_count": 92,
   "metadata": {},
   "outputs": [],
   "source": [
    "#clean_adresse=[]\n",
    "\n",
    "#for i in range(len(clean_adresse)):\n",
    " #   clean_adresse.append(Adresse_hotel)\n"
   ]
  },
  {
   "cell_type": "code",
   "execution_count": 135,
   "metadata": {},
   "outputs": [],
   "source": [
    "import pandas as pd\n",
    "ReviewDjerba = pd.DataFrame(clean_name,columns=['Hotel_name']) "
   ]
  },
  {
   "cell_type": "code",
   "execution_count": 136,
   "metadata": {},
   "outputs": [],
   "source": [
    "ReviewDjerba['Review']=clean_review"
   ]
  },
  {
   "cell_type": "code",
   "execution_count": 95,
   "metadata": {},
   "outputs": [],
   "source": [
    "#ReviewDjerba['Adresse_hotel']=clean_adresse"
   ]
  },
  {
   "cell_type": "code",
   "execution_count": 137,
   "metadata": {},
   "outputs": [],
   "source": [
    "ReviewDjerba.to_csv ('ReviewDjerba.csv', index = False, header=True) #Don't forget to add '.csv' at the end of the path\n"
   ]
  },
  {
   "cell_type": "code",
   "execution_count": null,
   "metadata": {},
   "outputs": [],
   "source": []
  },
  {
   "cell_type": "code",
   "execution_count": 138,
   "metadata": {},
   "outputs": [
    {
     "data": {
      "text/html": [
       "<div>\n",
       "<style scoped>\n",
       "    .dataframe tbody tr th:only-of-type {\n",
       "        vertical-align: middle;\n",
       "    }\n",
       "\n",
       "    .dataframe tbody tr th {\n",
       "        vertical-align: top;\n",
       "    }\n",
       "\n",
       "    .dataframe thead th {\n",
       "        text-align: right;\n",
       "    }\n",
       "</style>\n",
       "<table border=\"1\" class=\"dataframe\">\n",
       "  <thead>\n",
       "    <tr style=\"text-align: right;\">\n",
       "      <th></th>\n",
       "      <th>Hotel_name</th>\n",
       "      <th>Review</th>\n",
       "    </tr>\n",
       "  </thead>\n",
       "  <tbody>\n",
       "    <tr>\n",
       "      <th>0</th>\n",
       "      <td>Hôtel Iberostar Mehari Djerba</td>\n",
       "      <td>« Bel hôte.belles chambres,personnel efficace ...</td>\n",
       "    </tr>\n",
       "    <tr>\n",
       "      <th>1</th>\n",
       "      <td>Hôtel Iberostar Mehari Djerba</td>\n",
       "      <td>« Le buffet est Exceptionnel ! Petit déjeuner ...</td>\n",
       "    </tr>\n",
       "    <tr>\n",
       "      <th>2</th>\n",
       "      <td>Hôtel Iberostar Mehari Djerba</td>\n",
       "      <td>« J'ai apprécié les animations, le cadre, la r...</td>\n",
       "    </tr>\n",
       "    <tr>\n",
       "      <th>3</th>\n",
       "      <td>Hôtel Iberostar Mehari Djerba</td>\n",
       "      <td>« buffet petit dej et diner  super varié et qu...</td>\n",
       "    </tr>\n",
       "    <tr>\n",
       "      <th>4</th>\n",
       "      <td>Hôtel Iberostar Mehari Djerba</td>\n",
       "      <td>« Chambre propre, le personnel cuisiniers et a...</td>\n",
       "    </tr>\n",
       "    <tr>\n",
       "      <th>5</th>\n",
       "      <td>Hôtel Iberostar Mehari Djerba</td>\n",
       "      <td>« La restauration était excellente, l établiss...</td>\n",
       "    </tr>\n",
       "    <tr>\n",
       "      <th>6</th>\n",
       "      <td>Hôtel Iberostar Mehari Djerba</td>\n",
       "      <td>« Nous avons apprécié la propreté et le confor...</td>\n",
       "    </tr>\n",
       "    <tr>\n",
       "      <th>7</th>\n",
       "      <td>Hôtel Iberostar Mehari Djerba</td>\n",
       "      <td>« J ai aimé la chambre la télévision avec les ...</td>\n",
       "    </tr>\n",
       "    <tr>\n",
       "      <th>8</th>\n",
       "      <td>Hôtel Iberostar Mehari Djerba</td>\n",
       "      <td>« Notre séjour à Djerba était inoubliable. Un ...</td>\n",
       "    </tr>\n",
       "    <tr>\n",
       "      <th>9</th>\n",
       "      <td>Hôtel Iberostar Mehari Djerba</td>\n",
       "      <td>« piscine intérieure\\nla construction d une no...</td>\n",
       "    </tr>\n",
       "  </tbody>\n",
       "</table>\n",
       "</div>"
      ],
      "text/plain": [
       "                        Hotel_name  \\\n",
       "0   Hôtel Iberostar Mehari Djerba    \n",
       "1   Hôtel Iberostar Mehari Djerba    \n",
       "2   Hôtel Iberostar Mehari Djerba    \n",
       "3   Hôtel Iberostar Mehari Djerba    \n",
       "4   Hôtel Iberostar Mehari Djerba    \n",
       "5   Hôtel Iberostar Mehari Djerba    \n",
       "6   Hôtel Iberostar Mehari Djerba    \n",
       "7   Hôtel Iberostar Mehari Djerba    \n",
       "8   Hôtel Iberostar Mehari Djerba    \n",
       "9   Hôtel Iberostar Mehari Djerba    \n",
       "\n",
       "                                              Review  \n",
       "0  « Bel hôte.belles chambres,personnel efficace ...  \n",
       "1  « Le buffet est Exceptionnel ! Petit déjeuner ...  \n",
       "2  « J'ai apprécié les animations, le cadre, la r...  \n",
       "3  « buffet petit dej et diner  super varié et qu...  \n",
       "4  « Chambre propre, le personnel cuisiniers et a...  \n",
       "5  « La restauration était excellente, l établiss...  \n",
       "6  « Nous avons apprécié la propreté et le confor...  \n",
       "7  « J ai aimé la chambre la télévision avec les ...  \n",
       "8  « Notre séjour à Djerba était inoubliable. Un ...  \n",
       "9  « piscine intérieure\\nla construction d une no...  "
      ]
     },
     "execution_count": 138,
     "metadata": {},
     "output_type": "execute_result"
    }
   ],
   "source": [
    "df=pd.read_csv('ReviewDjerba.csv')\n",
    "\n",
    "df"
   ]
  },
  {
   "cell_type": "code",
   "execution_count": null,
   "metadata": {},
   "outputs": [],
   "source": []
  },
  {
   "cell_type": "code",
   "execution_count": null,
   "metadata": {},
   "outputs": [],
   "source": []
  }
 ],
 "metadata": {
  "kernelspec": {
   "display_name": "Python 3",
   "language": "python",
   "name": "python3"
  },
  "language_info": {
   "codemirror_mode": {
    "name": "ipython",
    "version": 3
   },
   "file_extension": ".py",
   "mimetype": "text/x-python",
   "name": "python",
   "nbconvert_exporter": "python",
   "pygments_lexer": "ipython3",
   "version": "3.7.4"
  }
 },
 "nbformat": 4,
 "nbformat_minor": 4
}
